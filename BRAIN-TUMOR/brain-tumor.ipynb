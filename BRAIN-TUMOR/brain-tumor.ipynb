{
 "cells": [
  {
   "cell_type": "code",
   "execution_count": 30,
   "metadata": {},
   "outputs": [],
   "source": [
    "import cv2\n",
    "import os\n",
    "from PIL import Image\n",
    "import numpy as np\n",
    "import matplotlib.pyplot as plt\n",
    "from sklearn.model_selection import train_test_split\n",
    "import tensorflow as tf\n",
    "from tensorflow import keras\n",
    "from keras.utils import normalize\n",
    "from keras.models import Sequential\n",
    "from keras.layers import Conv2D, MaxPooling2D, Dense, Flatten, Dropout, Activation\n",
    "from keras.utils import to_categorical\n"
   ]
  },
  {
   "cell_type": "code",
   "execution_count": 7,
   "metadata": {},
   "outputs": [],
   "source": [
    "INPUT_SIZE = 64\n",
    "image_directory = 'datasets/'\n"
   ]
  },
  {
   "cell_type": "code",
   "execution_count": 8,
   "metadata": {},
   "outputs": [],
   "source": [
    "no_tumor_images = os.listdir(image_directory + 'no/')\n",
    "yes_tumor_images = os.listdir(image_directory + 'yes/')\n"
   ]
  },
  {
   "cell_type": "code",
   "execution_count": 9,
   "metadata": {},
   "outputs": [],
   "source": [
    "dataset = []\n",
    "label = []\n"
   ]
  },
  {
   "cell_type": "code",
   "execution_count": 10,
   "metadata": {},
   "outputs": [],
   "source": [
    "for i, image_name in enumerate(no_tumor_images):\n",
    "    if(image_name.split('.')[1] == 'jpg'):\n",
    "        image = cv2.imread(image_directory + 'no/' + image_name)\n",
    "        image = Image.fromarray(image, 'RGB')\n",
    "        image = image.resize((INPUT_SIZE, INPUT_SIZE))\n",
    "        dataset.append(np.array(image))\n",
    "        label.append(0)\n"
   ]
  },
  {
   "cell_type": "code",
   "execution_count": 11,
   "metadata": {},
   "outputs": [],
   "source": [
    "for i, image_name in enumerate(yes_tumor_images):\n",
    "    if(image_name.split('.')[1] == 'jpg'):\n",
    "        image = cv2.imread(image_directory + 'yes/' + image_name)\n",
    "        image = Image.fromarray(image, 'RGB')\n",
    "        image = image.resize((INPUT_SIZE, INPUT_SIZE))\n",
    "        dataset.append(np.array(image))\n",
    "        label.append(1)\n"
   ]
  },
  {
   "cell_type": "code",
   "execution_count": 12,
   "metadata": {},
   "outputs": [
    {
     "name": "stdout",
     "output_type": "stream",
     "text": [
      "3000\n",
      "3000\n"
     ]
    }
   ],
   "source": [
    "print(len(dataset))\n",
    "print(len(label))\n"
   ]
  },
  {
   "cell_type": "code",
   "execution_count": 13,
   "metadata": {},
   "outputs": [],
   "source": [
    "dataset = np.array(dataset)\n",
    "label = np.array(label)\n"
   ]
  },
  {
   "cell_type": "code",
   "execution_count": 14,
   "metadata": {},
   "outputs": [],
   "source": [
    "x_train, x_test, y_train, y_test = train_test_split(\n",
    "    dataset, label, test_size=0.2, random_state=42)"
   ]
  },
  {
   "cell_type": "code",
   "execution_count": 15,
   "metadata": {},
   "outputs": [
    {
     "name": "stdout",
     "output_type": "stream",
     "text": [
      "(2400, 64, 64, 3)\n",
      "(600, 64, 64, 3)\n"
     ]
    }
   ],
   "source": [
    "print(x_train.shape)\n",
    "print(x_test.shape)\n",
    "# (images, height, width, channels) "
   ]
  },
  {
   "cell_type": "code",
   "execution_count": 16,
   "metadata": {},
   "outputs": [
    {
     "name": "stdout",
     "output_type": "stream",
     "text": [
      "(2400,)\n",
      "(600,)\n"
     ]
    }
   ],
   "source": [
    "print(y_train.shape)\n",
    "print(y_test.shape)\n"
   ]
  },
  {
   "cell_type": "code",
   "execution_count": 17,
   "metadata": {},
   "outputs": [],
   "source": [
    "# NORMALIZE THE DATA\n",
    "\n",
    "x_train = normalize(x_train, axis=1)\n",
    "x_test = normalize(x_test, axis=1)\n"
   ]
  },
  {
   "cell_type": "code",
   "execution_count": 42,
   "metadata": {},
   "outputs": [],
   "source": [
    "# BUILD THE MODEL\n",
    "model = Sequential()\n",
    "\n",
    "model.add(Conv2D(32, (3, 3), input_shape=(INPUT_SIZE, INPUT_SIZE, 3)))\n",
    "model.add(Activation('relu'))\n",
    "model.add(MaxPooling2D(pool_size=(2, 2)))\n",
    "\n",
    "\n",
    "model.add(Conv2D(32, (3, 3), kernel_initializer='he_uniform'))\n",
    "model.add(Activation('relu'))\n",
    "model.add(MaxPooling2D(pool_size=(2, 2)))\n",
    "\n",
    "\n",
    "model.add(Conv2D(32, (3, 3), kernel_initializer='he_uniform'))\n",
    "model.add(Activation('tanh'))\n",
    "model.add(MaxPooling2D(pool_size=(2, 2)))\n",
    "\n",
    "model.add(Conv2D(32, (3, 3), kernel_initializer='he_uniform'))\n",
    "model.add(Activation('relu'))\n",
    "model.add(MaxPooling2D(pool_size=(2, 2)))\n",
    "\n",
    "model.add(Flatten())\n",
    "model.add(Dense(64))\n",
    "model.add(Activation('relu'))\n",
    "\n",
    "model.add(Dropout(0.5))\n",
    "model.add(Dense(1))\n",
    "model.add(Activation('sigmoid'))\n"
   ]
  },
  {
   "cell_type": "code",
   "execution_count": 43,
   "metadata": {},
   "outputs": [
    {
     "name": "stdout",
     "output_type": "stream",
     "text": [
      "Epoch 1/16\n",
      "150/150 [==============================] - 8s 51ms/step - loss: 0.5824 - accuracy: 0.6850 - val_loss: 0.4761 - val_accuracy: 0.7917\n",
      "Epoch 2/16\n",
      "150/150 [==============================] - 8s 52ms/step - loss: 0.4160 - accuracy: 0.8204 - val_loss: 0.3643 - val_accuracy: 0.8383\n",
      "Epoch 3/16\n",
      "150/150 [==============================] - 7s 47ms/step - loss: 0.3190 - accuracy: 0.8704 - val_loss: 0.3003 - val_accuracy: 0.8733\n",
      "Epoch 4/16\n",
      "150/150 [==============================] - 7s 48ms/step - loss: 0.2287 - accuracy: 0.9129 - val_loss: 0.2141 - val_accuracy: 0.9350\n",
      "Epoch 5/16\n",
      "150/150 [==============================] - 7s 47ms/step - loss: 0.1675 - accuracy: 0.9396 - val_loss: 0.1657 - val_accuracy: 0.9483\n",
      "Epoch 6/16\n",
      "150/150 [==============================] - 7s 46ms/step - loss: 0.1128 - accuracy: 0.9608 - val_loss: 0.1410 - val_accuracy: 0.9550\n",
      "Epoch 7/16\n",
      "150/150 [==============================] - 7s 47ms/step - loss: 0.0727 - accuracy: 0.9750 - val_loss: 0.1357 - val_accuracy: 0.9600\n",
      "Epoch 8/16\n",
      "150/150 [==============================] - 7s 46ms/step - loss: 0.0540 - accuracy: 0.9833 - val_loss: 0.1460 - val_accuracy: 0.9617\n",
      "Epoch 9/16\n",
      "150/150 [==============================] - 7s 47ms/step - loss: 0.0340 - accuracy: 0.9900 - val_loss: 0.1271 - val_accuracy: 0.9717\n",
      "Epoch 10/16\n",
      "150/150 [==============================] - 7s 47ms/step - loss: 0.0186 - accuracy: 0.9954 - val_loss: 0.1317 - val_accuracy: 0.9717\n",
      "Epoch 11/16\n",
      "150/150 [==============================] - 7s 45ms/step - loss: 0.0080 - accuracy: 0.9992 - val_loss: 0.1720 - val_accuracy: 0.9700\n",
      "Epoch 12/16\n",
      "150/150 [==============================] - 7s 45ms/step - loss: 0.0035 - accuracy: 1.0000 - val_loss: 0.1696 - val_accuracy: 0.9700\n",
      "Epoch 13/16\n",
      "150/150 [==============================] - 7s 45ms/step - loss: 0.0040 - accuracy: 0.9992 - val_loss: 0.1574 - val_accuracy: 0.9700\n",
      "Epoch 14/16\n",
      "150/150 [==============================] - 7s 45ms/step - loss: 0.0021 - accuracy: 1.0000 - val_loss: 0.1680 - val_accuracy: 0.9717\n",
      "Epoch 15/16\n",
      "150/150 [==============================] - 7s 50ms/step - loss: 0.0064 - accuracy: 0.9983 - val_loss: 0.1584 - val_accuracy: 0.9700\n",
      "Epoch 16/16\n",
      "150/150 [==============================] - 7s 47ms/step - loss: 0.0088 - accuracy: 0.9975 - val_loss: 0.1802 - val_accuracy: 0.9650\n"
     ]
    }
   ],
   "source": [
    "# Binary Cross Entropy = 1, sigmoid activation function\n",
    "# Categorical Cross Entropy = 2, softmax activation function\n",
    "\n",
    "hs = model.compile(loss='binary_crossentropy',\n",
    "                   optimizer='adam', metrics=['accuracy'])\n",
    "\n",
    "history = model.fit(x_train, y_train, batch_size=16, verbose=1, epochs=16,\n",
    "          validation_data=(x_test, y_test), shuffle=False)\n"
   ]
  },
  {
   "cell_type": "code",
   "execution_count": 44,
   "metadata": {},
   "outputs": [
    {
     "data": {
      "text/plain": [
       "{'loss': [0.5824344158172607,\n",
       "  0.41602975130081177,\n",
       "  0.31898489594459534,\n",
       "  0.22869931161403656,\n",
       "  0.16754232347011566,\n",
       "  0.11278015375137329,\n",
       "  0.07268679887056351,\n",
       "  0.054028384387493134,\n",
       "  0.03399832919239998,\n",
       "  0.018558531999588013,\n",
       "  0.008017566055059433,\n",
       "  0.0034945611841976643,\n",
       "  0.004019171930849552,\n",
       "  0.0021434216760098934,\n",
       "  0.006406016182154417,\n",
       "  0.008783207274973392],\n",
       " 'accuracy': [0.6850000023841858,\n",
       "  0.8204166889190674,\n",
       "  0.8704166412353516,\n",
       "  0.9129166603088379,\n",
       "  0.9395833611488342,\n",
       "  0.9608333110809326,\n",
       "  0.9750000238418579,\n",
       "  0.9833333492279053,\n",
       "  0.9900000095367432,\n",
       "  0.9954166412353516,\n",
       "  0.9991666674613953,\n",
       "  1.0,\n",
       "  0.9991666674613953,\n",
       "  1.0,\n",
       "  0.9983333349227905,\n",
       "  0.9975000023841858],\n",
       " 'val_loss': [0.4760873019695282,\n",
       "  0.36427852511405945,\n",
       "  0.300307959318161,\n",
       "  0.21412748098373413,\n",
       "  0.16572001576423645,\n",
       "  0.1409955620765686,\n",
       "  0.13573449850082397,\n",
       "  0.1459590494632721,\n",
       "  0.12708719074726105,\n",
       "  0.13169656693935394,\n",
       "  0.17200854420661926,\n",
       "  0.1696229875087738,\n",
       "  0.15741421282291412,\n",
       "  0.16802607476711273,\n",
       "  0.15836988389492035,\n",
       "  0.18018855154514313],\n",
       " 'val_accuracy': [0.7916666865348816,\n",
       "  0.8383333086967468,\n",
       "  0.8733333349227905,\n",
       "  0.9350000023841858,\n",
       "  0.9483333230018616,\n",
       "  0.9549999833106995,\n",
       "  0.9599999785423279,\n",
       "  0.9616666436195374,\n",
       "  0.971666693687439,\n",
       "  0.971666693687439,\n",
       "  0.9700000286102295,\n",
       "  0.9700000286102295,\n",
       "  0.9700000286102295,\n",
       "  0.971666693687439,\n",
       "  0.9700000286102295,\n",
       "  0.9649999737739563]}"
      ]
     },
     "execution_count": 44,
     "metadata": {},
     "output_type": "execute_result"
    }
   ],
   "source": [
    "history.history"
   ]
  },
  {
   "cell_type": "code",
   "execution_count": 45,
   "metadata": {},
   "outputs": [
    {
     "data": {
      "text/plain": [
       "0.6850000023841858"
      ]
     },
     "execution_count": 45,
     "metadata": {},
     "output_type": "execute_result"
    }
   ],
   "source": [
    "history.history['accuracy'][0]"
   ]
  },
  {
   "cell_type": "code",
   "execution_count": 46,
   "metadata": {},
   "outputs": [
    {
     "data": {
      "text/plain": [
       "0.5824344158172607"
      ]
     },
     "execution_count": 46,
     "metadata": {},
     "output_type": "execute_result"
    }
   ],
   "source": [
    "history.history['loss'][0]\n"
   ]
  },
  {
   "cell_type": "code",
   "execution_count": 47,
   "metadata": {},
   "outputs": [
    {
     "data": {
      "text/plain": [
       "0.7916666865348816"
      ]
     },
     "execution_count": 47,
     "metadata": {},
     "output_type": "execute_result"
    }
   ],
   "source": [
    "history.history['val_accuracy'][0]\n"
   ]
  },
  {
   "cell_type": "code",
   "execution_count": 48,
   "metadata": {},
   "outputs": [
    {
     "data": {
      "text/plain": [
       "0.4760873019695282"
      ]
     },
     "execution_count": 48,
     "metadata": {},
     "output_type": "execute_result"
    }
   ],
   "source": [
    "history.history['val_loss'][0]\n"
   ]
  },
  {
   "cell_type": "code",
   "execution_count": 49,
   "metadata": {},
   "outputs": [],
   "source": [
    "# model.save('brain_tumor_16epochs.h5')"
   ]
  },
  {
   "cell_type": "code",
   "execution_count": 50,
   "metadata": {},
   "outputs": [
    {
     "name": "stdout",
     "output_type": "stream",
     "text": [
      "19/19 [==============================] - 0s 14ms/step - loss: 0.1802 - accuracy: 0.9650\n"
     ]
    }
   ],
   "source": [
    "y_pred = model.evaluate(x_test, y_test)"
   ]
  },
  {
   "cell_type": "code",
   "execution_count": null,
   "metadata": {},
   "outputs": [],
   "source": []
  }
 ],
 "metadata": {
  "kernelspec": {
   "display_name": "Python 3.9.5 64-bit",
   "language": "python",
   "name": "python3"
  },
  "language_info": {
   "codemirror_mode": {
    "name": "ipython",
    "version": 3
   },
   "file_extension": ".py",
   "mimetype": "text/x-python",
   "name": "python",
   "nbconvert_exporter": "python",
   "pygments_lexer": "ipython3",
   "version": "3.9.5 (v3.9.5:0a7dcbdb13, May  3 2021, 13:17:02) \n[Clang 6.0 (clang-600.0.57)]"
  },
  "orig_nbformat": 4,
  "vscode": {
   "interpreter": {
    "hash": "aee8b7b246df8f9039afb4144a1f6fd8d2ca17a180786b69acc140d282b71a49"
   }
  }
 },
 "nbformat": 4,
 "nbformat_minor": 2
}
